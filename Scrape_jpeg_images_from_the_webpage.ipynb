{
  "nbformat": 4,
  "nbformat_minor": 0,
  "metadata": {
    "colab": {
      "name": "Scrape jpeg images from the webpage.ipynb",
      "version": "0.3.2",
      "provenance": [],
      "toc_visible": true
    },
    "kernelspec": {
      "name": "python3",
      "display_name": "Python 3"
    }
  },
  "cells": [
    {
      "metadata": {
        "id": "hCokjb5TAFbO",
        "colab_type": "text"
      },
      "cell_type": "markdown",
      "source": [
        "# Scrape jpeg images from any webpage\n",
        "\n",
        "\n",
        "*   Example below\n",
        "\n"
      ]
    },
    {
      "metadata": {
        "id": "VACHOUrK-xR_",
        "colab_type": "code",
        "outputId": "c4f9e1bf-26d9-4bc8-9bd3-4fb00c54aaff",
        "colab": {
          "base_uri": "https://localhost:8080/",
          "height": 658
        }
      },
      "cell_type": "code",
      "source": [
        "from bs4 import BeautifulSoup\n",
        "from urllib.request import urlopen\n",
        "import urllib\n",
        "import regex as re\n",
        "# use this image scraper from the location that \n",
        "#you want to save scraped images to\n",
        "\n",
        "def make_soup(url):\n",
        "\thtml = urlopen(url).read()\n",
        "\treturn BeautifulSoup(html)\n",
        "\n",
        "def get_images(url):\n",
        "    soup = make_soup(url)\n",
        "    #this makes a list of bs4 element tags\n",
        "    images = [img for img in soup.findAll('img', {'src' : re.compile(r'(jpe?g)')})]\n",
        "    print (str(len(images)) + \" images found.\")\n",
        "    print ('Downloading images to current working directory.')\n",
        "    #compile our unicode list of image links\n",
        "    image_links = [each.get('src') for each in images]\n",
        "    print(len(image_links))\n",
        "    n=1\n",
        "    for i in image_links:\n",
        "        data = urllib.request.urlretrieve(\"https:\"+i, str(n)+\".jpg\")\n",
        "        n=n+1\n",
        "    #for each in image_links:\n",
        "    #filename=each.split('/')[-1]\n",
        "    #urllib.request.urlretrieve(each, filename)\n",
        "    return image_links\n",
        "    \n",
        "\n",
        "#a standard call looks like this\n",
        "#Place your webpage here\n",
        "get_images('https://en.wikipedia.org/wiki/Cat')"
      ],
      "execution_count": 0,
      "outputs": [
        {
          "output_type": "stream",
          "text": [
            "32 images found.\n",
            "Downloading images to current working directory.\n",
            "32\n"
          ],
          "name": "stdout"
        },
        {
          "output_type": "execute_result",
          "data": {
            "text/plain": [
              "['//upload.wikimedia.org/wikipedia/commons/thumb/0/0b/Cat_poster_1.jpg/260px-Cat_poster_1.jpg',\n",
              " '//upload.wikimedia.org/wikipedia/commons/thumb/9/9e/Tomb_of_Nakht_%287%29.jpg/220px-Tomb_of_Nakht_%287%29.jpg',\n",
              " '//upload.wikimedia.org/wikipedia/commons/thumb/e/ef/Cat_skull.jpg/220px-Cat_skull.jpg',\n",
              " '//upload.wikimedia.org/wikipedia/commons/thumb/b/bb/Kittyply_edit1.jpg/220px-Kittyply_edit1.jpg',\n",
              " '//upload.wikimedia.org/wikipedia/commons/thumb/a/a1/BIOASTRONAUTICS_RESEARCH_Gov.archives.arc.68700.ogv/220px-seek%3D240-BIOASTRONAUTICS_RESEARCH_Gov.archives.arc.68700.ogv.jpg',\n",
              " '//upload.wikimedia.org/wikipedia/commons/thumb/2/2d/Cold_nose%2C_warm_touch_-_Thermography_of_Cat.jpg/220px-Cold_nose%2C_warm_touch_-_Thermography_of_Cat.jpg',\n",
              " '//upload.wikimedia.org/wikipedia/commons/thumb/4/4f/Felis_silvestris_catus_lying_on_rice_straw.jpg/220px-Felis_silvestris_catus_lying_on_rice_straw.jpg',\n",
              " '//upload.wikimedia.org/wikipedia/commons/thumb/5/5e/Domestic_Cat_Face_Shot.jpg/220px-Domestic_Cat_Face_Shot.jpg',\n",
              " '//upload.wikimedia.org/wikipedia/commons/thumb/6/6d/Listen%2C_do_you_want_to_know_a_secret.jpg/220px-Listen%2C_do_you_want_to_know_a_secret.jpg',\n",
              " '//upload.wikimedia.org/wikipedia/commons/thumb/8/8e/Domestic_cat_watching_an_alaskan_malamute.jpg/220px-Domestic_cat_watching_an_alaskan_malamute.jpg',\n",
              " '//upload.wikimedia.org/wikipedia/commons/thumb/8/83/Mothercatandkitten-malawi-2018.webm/220px-seek%3D2-Mothercatandkitten-malawi-2018.webm.jpg',\n",
              " '//upload.wikimedia.org/wikipedia/commons/thumb/d/da/Cat_tongue_macro.jpg/220px-Cat_tongue_macro.jpg',\n",
              " '//upload.wikimedia.org/wikipedia/commons/thumb/6/6d/Housecat_Grooming_Itself.webm/220px--Housecat_Grooming_Itself.webm.jpg',\n",
              " '//upload.wikimedia.org/wikipedia/commons/thumb/3/3b/Gato_enervado_pola_presencia_dun_can.jpg/220px-Gato_enervado_pola_presencia_dun_can.jpg',\n",
              " '//upload.wikimedia.org/wikipedia/commons/thumb/1/1e/Large_Siamese_cat_tosses_a_mouse.jpg/220px-Large_Siamese_cat_tosses_a_mouse.jpg',\n",
              " '//upload.wikimedia.org/wikipedia/commons/thumb/9/97/Kot_z_mysz%C4%85.jpg/220px-Kot_z_mysz%C4%85.jpg',\n",
              " '//upload.wikimedia.org/wikipedia/commons/thumb/4/45/Play_fight_between_cats.webmhd.webm/220px-seek%3D4-Play_fight_between_cats.webmhd.webm.jpg',\n",
              " '//upload.wikimedia.org/wikipedia/commons/thumb/7/72/Cat_playing_with_a_lizard.jpg/220px-Cat_playing_with_a_lizard.jpg',\n",
              " '//upload.wikimedia.org/wikipedia/commons/thumb/e/e7/Cats_having_sex_in_Israel.jpg/220px-Cats_having_sex_in_Israel.jpg',\n",
              " '//upload.wikimedia.org/wikipedia/commons/thumb/8/84/Radiography_of_a_pregnant_cat.jpg/220px-Radiography_of_a_pregnant_cat.jpg',\n",
              " '//upload.wikimedia.org/wikipedia/commons/thumb/a/ad/Three-hour-old-kitten.jpg/220px-Three-hour-old-kitten.jpg',\n",
              " '//upload.wikimedia.org/wikipedia/commons/thumb/b/b6/Felis_catus-cat_on_snow.jpg/220px-Felis_catus-cat_on_snow.jpg',\n",
              " '//upload.wikimedia.org/wikipedia/commons/thumb/9/97/Feral_cat_Virginia_crop.jpg/170px-Feral_cat_Virginia_crop.jpg',\n",
              " '//upload.wikimedia.org/wikipedia/commons/thumb/7/75/Cat_eating_a_rabbit.jpeg/220px-Cat_eating_a_rabbit.jpeg',\n",
              " '//upload.wikimedia.org/wikipedia/commons/thumb/7/74/Cat-eating-prey.jpg/220px-Cat-eating-prey.jpg',\n",
              " '//upload.wikimedia.org/wikipedia/commons/thumb/7/7a/FEMA_-_34984_-_Humane_Society_worker_holding_rescued_cats.jpg/220px-FEMA_-_34984_-_Humane_Society_worker_holding_rescued_cats.jpg',\n",
              " '//upload.wikimedia.org/wikipedia/commons/thumb/8/87/Louvre_egyptologie_21.jpg/220px-Louvre_egyptologie_21.jpg',\n",
              " '//upload.wikimedia.org/wikipedia/commons/thumb/b/b0/Cat_birds_MAN_Napoli_Inv9993.jpg/220px-Cat_birds_MAN_Napoli_Inv9993.jpg',\n",
              " '//upload.wikimedia.org/wikipedia/commons/thumb/b/b0/PSM_V37_D105_English_tabby_cat.jpg/220px-PSM_V37_D105_English_tabby_cat.jpg',\n",
              " '//upload.wikimedia.org/wikipedia/commons/thumb/2/23/Close_up_of_a_black_domestic_cat.jpg/225px-Close_up_of_a_black_domestic_cat.jpg',\n",
              " '//upload.wikimedia.org/wikipedia/commons/thumb/3/3a/Cat03.jpg/28px-Cat03.jpg',\n",
              " '//upload.wikimedia.org/wikipedia/commons/thumb/1/18/Okapi2.jpg/32px-Okapi2.jpg']"
            ]
          },
          "metadata": {
            "tags": []
          },
          "execution_count": 4
        }
      ]
    }
  ]
}